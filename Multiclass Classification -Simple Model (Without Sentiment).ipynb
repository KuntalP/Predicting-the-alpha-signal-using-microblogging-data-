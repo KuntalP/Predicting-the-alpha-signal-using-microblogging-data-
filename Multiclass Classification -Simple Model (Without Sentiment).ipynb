{
 "cells": [
  {
   "cell_type": "markdown",
   "metadata": {},
   "source": [
    "**Predicting Alpha using only train factors dataset.**"
   ]
  },
  {
   "cell_type": "code",
   "execution_count": 1,
   "metadata": {},
   "outputs": [],
   "source": [
    "import pandas as pd\n",
    "import numpy as np\n",
    "import matplotlib.pyplot as plt\n",
    "import seaborn as sns\n",
    "import json\n",
    "from pandas.io.json import json_normalize\n",
    "import missingno as msno\n",
    "import re, string, unicodedata\n",
    "import nltk\n",
    "from bs4 import BeautifulSoup\n",
    "from nltk import word_tokenize, sent_tokenize\n",
    "from nltk.corpus import stopwords\n",
    "from nltk.stem import LancasterStemmer, WordNetLemmatizer\n",
    "import string\n",
    "import time\n",
    "from time import sleep\n",
    "from tqdm import tqdm_notebook as tq\n",
    "from sklearn.feature_extraction.text import TfidfVectorizer\n",
    "import pickle\n",
    "import scipy"
   ]
  },
  {
   "cell_type": "markdown",
   "metadata": {},
   "source": [
    "# Reading the Data"
   ]
  },
  {
   "cell_type": "code",
   "execution_count": 2,
   "metadata": {},
   "outputs": [],
   "source": [
    "train_data = pd.read_csv('final_train_data.csv')"
   ]
  },
  {
   "cell_type": "code",
   "execution_count": 3,
   "metadata": {},
   "outputs": [],
   "source": [
    "test_data = pd.read_csv('final_test_data.csv')"
   ]
  },
  {
   "cell_type": "code",
   "execution_count": 4,
   "metadata": {},
   "outputs": [
    {
     "data": {
      "text/html": [
       "<div>\n",
       "<style scoped>\n",
       "    .dataframe tbody tr th:only-of-type {\n",
       "        vertical-align: middle;\n",
       "    }\n",
       "\n",
       "    .dataframe tbody tr th {\n",
       "        vertical-align: top;\n",
       "    }\n",
       "\n",
       "    .dataframe thead th {\n",
       "        text-align: right;\n",
       "    }\n",
       "</style>\n",
       "<table border=\"1\" class=\"dataframe\">\n",
       "  <thead>\n",
       "    <tr style=\"text-align: right;\">\n",
       "      <th></th>\n",
       "      <th>Unnamed: 0</th>\n",
       "      <th>Id</th>\n",
       "      <th>ticker</th>\n",
       "      <th>SF1</th>\n",
       "      <th>SF2</th>\n",
       "      <th>SF3</th>\n",
       "      <th>SF4</th>\n",
       "      <th>SF5</th>\n",
       "      <th>SF6</th>\n",
       "      <th>SF7</th>\n",
       "      <th>alpha</th>\n",
       "      <th>Day</th>\n",
       "      <th>Month</th>\n",
       "    </tr>\n",
       "  </thead>\n",
       "  <tbody>\n",
       "    <tr>\n",
       "      <th>27001</th>\n",
       "      <td>27001</td>\n",
       "      <td>27002</td>\n",
       "      <td>RF</td>\n",
       "      <td>-0.946205</td>\n",
       "      <td>1.871952</td>\n",
       "      <td>0.068230</td>\n",
       "      <td>-0.348439</td>\n",
       "      <td>0.439969</td>\n",
       "      <td>0.297584</td>\n",
       "      <td>-0.634398</td>\n",
       "      <td>3</td>\n",
       "      <td>5</td>\n",
       "      <td>10</td>\n",
       "    </tr>\n",
       "    <tr>\n",
       "      <th>27002</th>\n",
       "      <td>27002</td>\n",
       "      <td>27003</td>\n",
       "      <td>PG</td>\n",
       "      <td>-0.962175</td>\n",
       "      <td>0.623644</td>\n",
       "      <td>0.468051</td>\n",
       "      <td>0.245506</td>\n",
       "      <td>-0.290927</td>\n",
       "      <td>-0.658470</td>\n",
       "      <td>-1.112317</td>\n",
       "      <td>3</td>\n",
       "      <td>30</td>\n",
       "      <td>7</td>\n",
       "    </tr>\n",
       "    <tr>\n",
       "      <th>27003</th>\n",
       "      <td>27003</td>\n",
       "      <td>27004</td>\n",
       "      <td>JCP</td>\n",
       "      <td>1.382757</td>\n",
       "      <td>-1.382645</td>\n",
       "      <td>-0.008343</td>\n",
       "      <td>-0.276788</td>\n",
       "      <td>-0.869303</td>\n",
       "      <td>-1.563029</td>\n",
       "      <td>1.372273</td>\n",
       "      <td>2</td>\n",
       "      <td>16</td>\n",
       "      <td>10</td>\n",
       "    </tr>\n",
       "    <tr>\n",
       "      <th>27004</th>\n",
       "      <td>27004</td>\n",
       "      <td>27005</td>\n",
       "      <td>NVDA</td>\n",
       "      <td>1.088894</td>\n",
       "      <td>-1.123395</td>\n",
       "      <td>0.027197</td>\n",
       "      <td>0.914267</td>\n",
       "      <td>-0.680183</td>\n",
       "      <td>-0.375689</td>\n",
       "      <td>0.394336</td>\n",
       "      <td>3</td>\n",
       "      <td>27</td>\n",
       "      <td>7</td>\n",
       "    </tr>\n",
       "    <tr>\n",
       "      <th>27005</th>\n",
       "      <td>27005</td>\n",
       "      <td>27006</td>\n",
       "      <td>WBA</td>\n",
       "      <td>-0.637959</td>\n",
       "      <td>0.621395</td>\n",
       "      <td>-0.636104</td>\n",
       "      <td>-0.810184</td>\n",
       "      <td>1.587782</td>\n",
       "      <td>-0.413540</td>\n",
       "      <td>0.101924</td>\n",
       "      <td>2</td>\n",
       "      <td>14</td>\n",
       "      <td>10</td>\n",
       "    </tr>\n",
       "  </tbody>\n",
       "</table>\n",
       "</div>"
      ],
      "text/plain": [
       "       Unnamed: 0     Id ticker       SF1       SF2       SF3       SF4  \\\n",
       "27001       27001  27002     RF -0.946205  1.871952  0.068230 -0.348439   \n",
       "27002       27002  27003     PG -0.962175  0.623644  0.468051  0.245506   \n",
       "27003       27003  27004    JCP  1.382757 -1.382645 -0.008343 -0.276788   \n",
       "27004       27004  27005   NVDA  1.088894 -1.123395  0.027197  0.914267   \n",
       "27005       27005  27006    WBA -0.637959  0.621395 -0.636104 -0.810184   \n",
       "\n",
       "            SF5       SF6       SF7  alpha  Day  Month  \n",
       "27001  0.439969  0.297584 -0.634398      3    5     10  \n",
       "27002 -0.290927 -0.658470 -1.112317      3   30      7  \n",
       "27003 -0.869303 -1.563029  1.372273      2   16     10  \n",
       "27004 -0.680183 -0.375689  0.394336      3   27      7  \n",
       "27005  1.587782 -0.413540  0.101924      2   14     10  "
      ]
     },
     "execution_count": 4,
     "metadata": {},
     "output_type": "execute_result"
    }
   ],
   "source": [
    "train_data.tail()"
   ]
  },
  {
   "cell_type": "code",
   "execution_count": 5,
   "metadata": {},
   "outputs": [
    {
     "data": {
      "text/html": [
       "<div>\n",
       "<style scoped>\n",
       "    .dataframe tbody tr th:only-of-type {\n",
       "        vertical-align: middle;\n",
       "    }\n",
       "\n",
       "    .dataframe tbody tr th {\n",
       "        vertical-align: top;\n",
       "    }\n",
       "\n",
       "    .dataframe thead th {\n",
       "        text-align: right;\n",
       "    }\n",
       "</style>\n",
       "<table border=\"1\" class=\"dataframe\">\n",
       "  <thead>\n",
       "    <tr style=\"text-align: right;\">\n",
       "      <th></th>\n",
       "      <th>Unnamed: 0</th>\n",
       "      <th>Id</th>\n",
       "      <th>ticker</th>\n",
       "      <th>SF1</th>\n",
       "      <th>SF2</th>\n",
       "      <th>SF3</th>\n",
       "      <th>SF4</th>\n",
       "      <th>SF5</th>\n",
       "      <th>SF6</th>\n",
       "      <th>SF7</th>\n",
       "      <th>Day</th>\n",
       "      <th>Month</th>\n",
       "    </tr>\n",
       "  </thead>\n",
       "  <tbody>\n",
       "    <tr>\n",
       "      <th>11570</th>\n",
       "      <td>11570</td>\n",
       "      <td>281577</td>\n",
       "      <td>T</td>\n",
       "      <td>-3.442316</td>\n",
       "      <td>0.455191</td>\n",
       "      <td>0.941669</td>\n",
       "      <td>-0.834807</td>\n",
       "      <td>0.278606</td>\n",
       "      <td>-0.233547</td>\n",
       "      <td>-2.755514</td>\n",
       "      <td>3</td>\n",
       "      <td>10</td>\n",
       "    </tr>\n",
       "    <tr>\n",
       "      <th>11571</th>\n",
       "      <td>11571</td>\n",
       "      <td>281578</td>\n",
       "      <td>WFC</td>\n",
       "      <td>-1.650993</td>\n",
       "      <td>-0.499109</td>\n",
       "      <td>-0.771762</td>\n",
       "      <td>-2.645119</td>\n",
       "      <td>2.374321</td>\n",
       "      <td>-0.200878</td>\n",
       "      <td>0.353774</td>\n",
       "      <td>21</td>\n",
       "      <td>8</td>\n",
       "    </tr>\n",
       "    <tr>\n",
       "      <th>11572</th>\n",
       "      <td>11572</td>\n",
       "      <td>281579</td>\n",
       "      <td>MAT</td>\n",
       "      <td>-1.578543</td>\n",
       "      <td>1.482062</td>\n",
       "      <td>0.672188</td>\n",
       "      <td>0.908843</td>\n",
       "      <td>-0.259848</td>\n",
       "      <td>-0.136924</td>\n",
       "      <td>-2.101467</td>\n",
       "      <td>11</td>\n",
       "      <td>8</td>\n",
       "    </tr>\n",
       "    <tr>\n",
       "      <th>11573</th>\n",
       "      <td>11573</td>\n",
       "      <td>281580</td>\n",
       "      <td>RF</td>\n",
       "      <td>-0.027608</td>\n",
       "      <td>0.811717</td>\n",
       "      <td>-0.148925</td>\n",
       "      <td>-0.700263</td>\n",
       "      <td>0.263678</td>\n",
       "      <td>-0.180345</td>\n",
       "      <td>0.435261</td>\n",
       "      <td>22</td>\n",
       "      <td>7</td>\n",
       "    </tr>\n",
       "    <tr>\n",
       "      <th>11574</th>\n",
       "      <td>11574</td>\n",
       "      <td>281581</td>\n",
       "      <td>bbby</td>\n",
       "      <td>0.591726</td>\n",
       "      <td>0.435771</td>\n",
       "      <td>-0.009138</td>\n",
       "      <td>-0.912432</td>\n",
       "      <td>-0.410299</td>\n",
       "      <td>0.072242</td>\n",
       "      <td>1.063584</td>\n",
       "      <td>26</td>\n",
       "      <td>7</td>\n",
       "    </tr>\n",
       "  </tbody>\n",
       "</table>\n",
       "</div>"
      ],
      "text/plain": [
       "       Unnamed: 0      Id ticker       SF1       SF2       SF3       SF4  \\\n",
       "11570       11570  281577      T -3.442316  0.455191  0.941669 -0.834807   \n",
       "11571       11571  281578    WFC -1.650993 -0.499109 -0.771762 -2.645119   \n",
       "11572       11572  281579    MAT -1.578543  1.482062  0.672188  0.908843   \n",
       "11573       11573  281580     RF -0.027608  0.811717 -0.148925 -0.700263   \n",
       "11574       11574  281581   bbby  0.591726  0.435771 -0.009138 -0.912432   \n",
       "\n",
       "            SF5       SF6       SF7  Day  Month  \n",
       "11570  0.278606 -0.233547 -2.755514    3     10  \n",
       "11571  2.374321 -0.200878  0.353774   21      8  \n",
       "11572 -0.259848 -0.136924 -2.101467   11      8  \n",
       "11573  0.263678 -0.180345  0.435261   22      7  \n",
       "11574 -0.410299  0.072242  1.063584   26      7  "
      ]
     },
     "execution_count": 5,
     "metadata": {},
     "output_type": "execute_result"
    }
   ],
   "source": [
    "test_data.tail()"
   ]
  },
  {
   "cell_type": "code",
   "execution_count": 7,
   "metadata": {},
   "outputs": [
    {
     "data": {
      "text/plain": [
       "Unnamed: 0      int64\n",
       "Id              int64\n",
       "ticker         object\n",
       "SF1           float64\n",
       "SF2           float64\n",
       "SF3           float64\n",
       "SF4           float64\n",
       "SF5           float64\n",
       "SF6           float64\n",
       "SF7           float64\n",
       "alpha           int64\n",
       "Day             int64\n",
       "Month           int64\n",
       "dtype: object"
      ]
     },
     "execution_count": 7,
     "metadata": {},
     "output_type": "execute_result"
    }
   ],
   "source": [
    "train_data.dtypes"
   ]
  },
  {
   "cell_type": "code",
   "execution_count": 8,
   "metadata": {},
   "outputs": [],
   "source": [
    "train_data['ticker'] = train_data['ticker'].astype('category')"
   ]
  },
  {
   "cell_type": "code",
   "execution_count": 9,
   "metadata": {},
   "outputs": [
    {
     "data": {
      "text/plain": [
       "Unnamed: 0      int64\n",
       "Id              int64\n",
       "ticker         object\n",
       "SF1           float64\n",
       "SF2           float64\n",
       "SF3           float64\n",
       "SF4           float64\n",
       "SF5           float64\n",
       "SF6           float64\n",
       "SF7           float64\n",
       "Day             int64\n",
       "Month           int64\n",
       "dtype: object"
      ]
     },
     "execution_count": 9,
     "metadata": {},
     "output_type": "execute_result"
    }
   ],
   "source": [
    "test_data.dtypes"
   ]
  },
  {
   "cell_type": "code",
   "execution_count": 10,
   "metadata": {},
   "outputs": [],
   "source": [
    "test_data['ticker'] = test_data['ticker'].astype('category')"
   ]
  },
  {
   "cell_type": "markdown",
   "metadata": {},
   "source": [
    "# Seperating X & Y"
   ]
  },
  {
   "cell_type": "code",
   "execution_count": 25,
   "metadata": {},
   "outputs": [],
   "source": [
    "X = train_data.drop(columns='alpha')\n",
    "y = train_data['alpha']"
   ]
  },
  {
   "cell_type": "markdown",
   "metadata": {},
   "source": [
    "# Train - Validation Split"
   ]
  },
  {
   "cell_type": "code",
   "execution_count": 26,
   "metadata": {},
   "outputs": [],
   "source": [
    "from sklearn.model_selection import train_test_split"
   ]
  },
  {
   "cell_type": "code",
   "execution_count": 32,
   "metadata": {},
   "outputs": [],
   "source": [
    "x_train, x_val, y_train, y_val = train_test_split(X, y, test_size = 0.2, random_state = 26, stratify = y)"
   ]
  },
  {
   "cell_type": "code",
   "execution_count": 33,
   "metadata": {},
   "outputs": [
    {
     "name": "stdout",
     "output_type": "stream",
     "text": [
      "X Train dimensions: \n",
      "\n",
      " (21604, 12) \n",
      "\n",
      "X Validation dimensions: \n",
      "\n",
      " (5402, 12) \n",
      "\n",
      "Y Train dimensions:\n",
      "\n",
      " (21604,) \n",
      "\n",
      " Y Validation dimensions: \n",
      "\n",
      " (5402,)\n"
     ]
    }
   ],
   "source": [
    "print('X Train dimensions: \\n\\n', x_train.shape, '\\n\\nX Validation dimensions: \\n\\n', x_val.shape, \n",
    "      '\\n\\nY Train dimensions:\\n\\n', y_train.shape, '\\n\\n Y Validation dimensions: \\n\\n', y_val.shape)"
   ]
  },
  {
   "cell_type": "markdown",
   "metadata": {},
   "source": [
    "# One Hot Encoding Ticker"
   ]
  },
  {
   "cell_type": "code",
   "execution_count": 18,
   "metadata": {},
   "outputs": [
    {
     "data": {
      "text/plain": [
       "Unnamed: 0       int64\n",
       "Id               int64\n",
       "ticker        category\n",
       "SF1            float64\n",
       "SF2            float64\n",
       "SF3            float64\n",
       "SF4            float64\n",
       "SF5            float64\n",
       "SF6            float64\n",
       "SF7            float64\n",
       "alpha            int64\n",
       "Day              int64\n",
       "Month            int64\n",
       "dtype: object"
      ]
     },
     "execution_count": 18,
     "metadata": {},
     "output_type": "execute_result"
    }
   ],
   "source": [
    "train_data.dtypes"
   ]
  },
  {
   "cell_type": "code",
   "execution_count": 34,
   "metadata": {},
   "outputs": [],
   "source": [
    "encoded_ticker_train = pd.get_dummies(data = x_train)\n",
    "encoded_ticker_val = pd.get_dummies(data = x_val)\n",
    "encoded_ticker_test = pd.get_dummies(data = test_data)"
   ]
  },
  {
   "cell_type": "code",
   "execution_count": 35,
   "metadata": {},
   "outputs": [
    {
     "data": {
      "text/html": [
       "<div>\n",
       "<style scoped>\n",
       "    .dataframe tbody tr th:only-of-type {\n",
       "        vertical-align: middle;\n",
       "    }\n",
       "\n",
       "    .dataframe tbody tr th {\n",
       "        vertical-align: top;\n",
       "    }\n",
       "\n",
       "    .dataframe thead th {\n",
       "        text-align: right;\n",
       "    }\n",
       "</style>\n",
       "<table border=\"1\" class=\"dataframe\">\n",
       "  <thead>\n",
       "    <tr style=\"text-align: right;\">\n",
       "      <th></th>\n",
       "      <th>Unnamed: 0</th>\n",
       "      <th>Id</th>\n",
       "      <th>SF1</th>\n",
       "      <th>SF2</th>\n",
       "      <th>SF3</th>\n",
       "      <th>SF4</th>\n",
       "      <th>SF5</th>\n",
       "      <th>SF6</th>\n",
       "      <th>SF7</th>\n",
       "      <th>Day</th>\n",
       "      <th>...</th>\n",
       "      <th>ticker_x</th>\n",
       "      <th>ticker_xec</th>\n",
       "      <th>ticker_xlnx</th>\n",
       "      <th>ticker_xom</th>\n",
       "      <th>ticker_xray</th>\n",
       "      <th>ticker_xrt</th>\n",
       "      <th>ticker_yum</th>\n",
       "      <th>ticker_zbh</th>\n",
       "      <th>ticker_zion</th>\n",
       "      <th>ticker_zts</th>\n",
       "    </tr>\n",
       "  </thead>\n",
       "  <tbody>\n",
       "    <tr>\n",
       "      <th>21492</th>\n",
       "      <td>21492</td>\n",
       "      <td>21493</td>\n",
       "      <td>0.021358</td>\n",
       "      <td>0.945042</td>\n",
       "      <td>-0.267387</td>\n",
       "      <td>0.000562</td>\n",
       "      <td>0.506703</td>\n",
       "      <td>0.242560</td>\n",
       "      <td>0.091036</td>\n",
       "      <td>26</td>\n",
       "      <td>...</td>\n",
       "      <td>0</td>\n",
       "      <td>0</td>\n",
       "      <td>0</td>\n",
       "      <td>0</td>\n",
       "      <td>0</td>\n",
       "      <td>0</td>\n",
       "      <td>0</td>\n",
       "      <td>0</td>\n",
       "      <td>0</td>\n",
       "      <td>0</td>\n",
       "    </tr>\n",
       "    <tr>\n",
       "      <th>26410</th>\n",
       "      <td>26410</td>\n",
       "      <td>26411</td>\n",
       "      <td>-1.361044</td>\n",
       "      <td>-0.834161</td>\n",
       "      <td>-0.093503</td>\n",
       "      <td>2.147007</td>\n",
       "      <td>1.169477</td>\n",
       "      <td>0.598797</td>\n",
       "      <td>-2.444095</td>\n",
       "      <td>20</td>\n",
       "      <td>...</td>\n",
       "      <td>0</td>\n",
       "      <td>0</td>\n",
       "      <td>0</td>\n",
       "      <td>0</td>\n",
       "      <td>0</td>\n",
       "      <td>0</td>\n",
       "      <td>0</td>\n",
       "      <td>0</td>\n",
       "      <td>0</td>\n",
       "      <td>0</td>\n",
       "    </tr>\n",
       "    <tr>\n",
       "      <th>9811</th>\n",
       "      <td>9811</td>\n",
       "      <td>9812</td>\n",
       "      <td>1.838173</td>\n",
       "      <td>-1.239422</td>\n",
       "      <td>-1.469837</td>\n",
       "      <td>0.804025</td>\n",
       "      <td>1.754245</td>\n",
       "      <td>0.936358</td>\n",
       "      <td>1.520345</td>\n",
       "      <td>18</td>\n",
       "      <td>...</td>\n",
       "      <td>0</td>\n",
       "      <td>0</td>\n",
       "      <td>0</td>\n",
       "      <td>0</td>\n",
       "      <td>0</td>\n",
       "      <td>0</td>\n",
       "      <td>0</td>\n",
       "      <td>0</td>\n",
       "      <td>0</td>\n",
       "      <td>0</td>\n",
       "    </tr>\n",
       "    <tr>\n",
       "      <th>9392</th>\n",
       "      <td>9392</td>\n",
       "      <td>9393</td>\n",
       "      <td>-2.806140</td>\n",
       "      <td>1.298610</td>\n",
       "      <td>0.490551</td>\n",
       "      <td>1.257951</td>\n",
       "      <td>0.886006</td>\n",
       "      <td>1.087680</td>\n",
       "      <td>-3.330132</td>\n",
       "      <td>21</td>\n",
       "      <td>...</td>\n",
       "      <td>0</td>\n",
       "      <td>0</td>\n",
       "      <td>0</td>\n",
       "      <td>0</td>\n",
       "      <td>0</td>\n",
       "      <td>0</td>\n",
       "      <td>0</td>\n",
       "      <td>0</td>\n",
       "      <td>0</td>\n",
       "      <td>0</td>\n",
       "    </tr>\n",
       "    <tr>\n",
       "      <th>24814</th>\n",
       "      <td>24814</td>\n",
       "      <td>24815</td>\n",
       "      <td>-0.334923</td>\n",
       "      <td>-0.554075</td>\n",
       "      <td>0.175425</td>\n",
       "      <td>1.061913</td>\n",
       "      <td>-0.065168</td>\n",
       "      <td>1.884874</td>\n",
       "      <td>-0.974540</td>\n",
       "      <td>24</td>\n",
       "      <td>...</td>\n",
       "      <td>0</td>\n",
       "      <td>0</td>\n",
       "      <td>0</td>\n",
       "      <td>0</td>\n",
       "      <td>0</td>\n",
       "      <td>0</td>\n",
       "      <td>0</td>\n",
       "      <td>0</td>\n",
       "      <td>0</td>\n",
       "      <td>0</td>\n",
       "    </tr>\n",
       "  </tbody>\n",
       "</table>\n",
       "<p>5 rows × 1310 columns</p>\n",
       "</div>"
      ],
      "text/plain": [
       "       Unnamed: 0     Id       SF1       SF2       SF3       SF4       SF5  \\\n",
       "21492       21492  21493  0.021358  0.945042 -0.267387  0.000562  0.506703   \n",
       "26410       26410  26411 -1.361044 -0.834161 -0.093503  2.147007  1.169477   \n",
       "9811         9811   9812  1.838173 -1.239422 -1.469837  0.804025  1.754245   \n",
       "9392         9392   9393 -2.806140  1.298610  0.490551  1.257951  0.886006   \n",
       "24814       24814  24815 -0.334923 -0.554075  0.175425  1.061913 -0.065168   \n",
       "\n",
       "            SF6       SF7  Day  ...  ticker_x  ticker_xec  ticker_xlnx  \\\n",
       "21492  0.242560  0.091036   26  ...         0           0            0   \n",
       "26410  0.598797 -2.444095   20  ...         0           0            0   \n",
       "9811   0.936358  1.520345   18  ...         0           0            0   \n",
       "9392   1.087680 -3.330132   21  ...         0           0            0   \n",
       "24814  1.884874 -0.974540   24  ...         0           0            0   \n",
       "\n",
       "       ticker_xom  ticker_xray  ticker_xrt  ticker_yum  ticker_zbh  \\\n",
       "21492           0            0           0           0           0   \n",
       "26410           0            0           0           0           0   \n",
       "9811            0            0           0           0           0   \n",
       "9392            0            0           0           0           0   \n",
       "24814           0            0           0           0           0   \n",
       "\n",
       "       ticker_zion  ticker_zts  \n",
       "21492            0           0  \n",
       "26410            0           0  \n",
       "9811             0           0  \n",
       "9392             0           0  \n",
       "24814            0           0  \n",
       "\n",
       "[5 rows x 1310 columns]"
      ]
     },
     "execution_count": 35,
     "metadata": {},
     "output_type": "execute_result"
    }
   ],
   "source": [
    "encoded_ticker_train.head()"
   ]
  },
  {
   "cell_type": "markdown",
   "metadata": {},
   "source": [
    "**Since the encoded dimensions of ticker for train, validation and test data wont be the same (because some all the tickers won't be present in the val & test), so we reindex the validation and test dataframes with train dataframe columns and fill the values with 0s.**"
   ]
  },
  {
   "cell_type": "code",
   "execution_count": 36,
   "metadata": {},
   "outputs": [],
   "source": [
    "encoded_ticker_val = encoded_ticker_val.reindex(columns = encoded_ticker_train.columns, fill_value=0)\n",
    "encoded_ticker_test = encoded_ticker_test.reindex(columns = encoded_ticker_train.columns, fill_value=0)"
   ]
  },
  {
   "cell_type": "code",
   "execution_count": 37,
   "metadata": {},
   "outputs": [
    {
     "data": {
      "text/html": [
       "<div>\n",
       "<style scoped>\n",
       "    .dataframe tbody tr th:only-of-type {\n",
       "        vertical-align: middle;\n",
       "    }\n",
       "\n",
       "    .dataframe tbody tr th {\n",
       "        vertical-align: top;\n",
       "    }\n",
       "\n",
       "    .dataframe thead th {\n",
       "        text-align: right;\n",
       "    }\n",
       "</style>\n",
       "<table border=\"1\" class=\"dataframe\">\n",
       "  <thead>\n",
       "    <tr style=\"text-align: right;\">\n",
       "      <th></th>\n",
       "      <th>Unnamed: 0</th>\n",
       "      <th>Id</th>\n",
       "      <th>SF1</th>\n",
       "      <th>SF2</th>\n",
       "      <th>SF3</th>\n",
       "      <th>SF4</th>\n",
       "      <th>SF5</th>\n",
       "      <th>SF6</th>\n",
       "      <th>SF7</th>\n",
       "      <th>Day</th>\n",
       "      <th>...</th>\n",
       "      <th>ticker_x</th>\n",
       "      <th>ticker_xec</th>\n",
       "      <th>ticker_xlnx</th>\n",
       "      <th>ticker_xom</th>\n",
       "      <th>ticker_xray</th>\n",
       "      <th>ticker_xrt</th>\n",
       "      <th>ticker_yum</th>\n",
       "      <th>ticker_zbh</th>\n",
       "      <th>ticker_zion</th>\n",
       "      <th>ticker_zts</th>\n",
       "    </tr>\n",
       "  </thead>\n",
       "  <tbody>\n",
       "    <tr>\n",
       "      <th>0</th>\n",
       "      <td>0</td>\n",
       "      <td>270007</td>\n",
       "      <td>-3.062194</td>\n",
       "      <td>1.223466</td>\n",
       "      <td>1.741714</td>\n",
       "      <td>2.279266</td>\n",
       "      <td>-1.323573</td>\n",
       "      <td>-0.274912</td>\n",
       "      <td>-4.504449</td>\n",
       "      <td>21</td>\n",
       "      <td>...</td>\n",
       "      <td>0</td>\n",
       "      <td>0</td>\n",
       "      <td>0</td>\n",
       "      <td>0</td>\n",
       "      <td>0</td>\n",
       "      <td>0</td>\n",
       "      <td>0</td>\n",
       "      <td>0</td>\n",
       "      <td>0</td>\n",
       "      <td>0</td>\n",
       "    </tr>\n",
       "    <tr>\n",
       "      <th>1</th>\n",
       "      <td>1</td>\n",
       "      <td>270008</td>\n",
       "      <td>0.816263</td>\n",
       "      <td>-2.184408</td>\n",
       "      <td>0.157975</td>\n",
       "      <td>-0.264743</td>\n",
       "      <td>-0.836282</td>\n",
       "      <td>0.046276</td>\n",
       "      <td>0.826353</td>\n",
       "      <td>5</td>\n",
       "      <td>...</td>\n",
       "      <td>0</td>\n",
       "      <td>0</td>\n",
       "      <td>0</td>\n",
       "      <td>0</td>\n",
       "      <td>0</td>\n",
       "      <td>0</td>\n",
       "      <td>0</td>\n",
       "      <td>0</td>\n",
       "      <td>0</td>\n",
       "      <td>0</td>\n",
       "    </tr>\n",
       "    <tr>\n",
       "      <th>2</th>\n",
       "      <td>2</td>\n",
       "      <td>270009</td>\n",
       "      <td>0.401281</td>\n",
       "      <td>0.091604</td>\n",
       "      <td>0.083411</td>\n",
       "      <td>-1.147041</td>\n",
       "      <td>-0.485223</td>\n",
       "      <td>-0.601060</td>\n",
       "      <td>1.012811</td>\n",
       "      <td>1</td>\n",
       "      <td>...</td>\n",
       "      <td>0</td>\n",
       "      <td>0</td>\n",
       "      <td>0</td>\n",
       "      <td>0</td>\n",
       "      <td>0</td>\n",
       "      <td>0</td>\n",
       "      <td>0</td>\n",
       "      <td>0</td>\n",
       "      <td>0</td>\n",
       "      <td>0</td>\n",
       "    </tr>\n",
       "    <tr>\n",
       "      <th>3</th>\n",
       "      <td>3</td>\n",
       "      <td>270010</td>\n",
       "      <td>-0.783521</td>\n",
       "      <td>1.192929</td>\n",
       "      <td>0.813831</td>\n",
       "      <td>-0.368166</td>\n",
       "      <td>-1.113656</td>\n",
       "      <td>-0.553581</td>\n",
       "      <td>-0.683803</td>\n",
       "      <td>24</td>\n",
       "      <td>...</td>\n",
       "      <td>0</td>\n",
       "      <td>0</td>\n",
       "      <td>0</td>\n",
       "      <td>0</td>\n",
       "      <td>0</td>\n",
       "      <td>0</td>\n",
       "      <td>0</td>\n",
       "      <td>0</td>\n",
       "      <td>0</td>\n",
       "      <td>0</td>\n",
       "    </tr>\n",
       "    <tr>\n",
       "      <th>4</th>\n",
       "      <td>4</td>\n",
       "      <td>270011</td>\n",
       "      <td>0.796507</td>\n",
       "      <td>0.455341</td>\n",
       "      <td>0.679032</td>\n",
       "      <td>0.354336</td>\n",
       "      <td>-1.799055</td>\n",
       "      <td>0.126153</td>\n",
       "      <td>0.297111</td>\n",
       "      <td>27</td>\n",
       "      <td>...</td>\n",
       "      <td>0</td>\n",
       "      <td>0</td>\n",
       "      <td>0</td>\n",
       "      <td>0</td>\n",
       "      <td>0</td>\n",
       "      <td>0</td>\n",
       "      <td>0</td>\n",
       "      <td>0</td>\n",
       "      <td>0</td>\n",
       "      <td>0</td>\n",
       "    </tr>\n",
       "  </tbody>\n",
       "</table>\n",
       "<p>5 rows × 1310 columns</p>\n",
       "</div>"
      ],
      "text/plain": [
       "   Unnamed: 0      Id       SF1       SF2       SF3       SF4       SF5  \\\n",
       "0           0  270007 -3.062194  1.223466  1.741714  2.279266 -1.323573   \n",
       "1           1  270008  0.816263 -2.184408  0.157975 -0.264743 -0.836282   \n",
       "2           2  270009  0.401281  0.091604  0.083411 -1.147041 -0.485223   \n",
       "3           3  270010 -0.783521  1.192929  0.813831 -0.368166 -1.113656   \n",
       "4           4  270011  0.796507  0.455341  0.679032  0.354336 -1.799055   \n",
       "\n",
       "        SF6       SF7  Day  ...  ticker_x  ticker_xec  ticker_xlnx  \\\n",
       "0 -0.274912 -4.504449   21  ...         0           0            0   \n",
       "1  0.046276  0.826353    5  ...         0           0            0   \n",
       "2 -0.601060  1.012811    1  ...         0           0            0   \n",
       "3 -0.553581 -0.683803   24  ...         0           0            0   \n",
       "4  0.126153  0.297111   27  ...         0           0            0   \n",
       "\n",
       "   ticker_xom  ticker_xray  ticker_xrt  ticker_yum  ticker_zbh  ticker_zion  \\\n",
       "0           0            0           0           0           0            0   \n",
       "1           0            0           0           0           0            0   \n",
       "2           0            0           0           0           0            0   \n",
       "3           0            0           0           0           0            0   \n",
       "4           0            0           0           0           0            0   \n",
       "\n",
       "   ticker_zts  \n",
       "0           0  \n",
       "1           0  \n",
       "2           0  \n",
       "3           0  \n",
       "4           0  \n",
       "\n",
       "[5 rows x 1310 columns]"
      ]
     },
     "execution_count": 37,
     "metadata": {},
     "output_type": "execute_result"
    }
   ],
   "source": [
    "encoded_ticker_test.head()"
   ]
  },
  {
   "cell_type": "markdown",
   "metadata": {},
   "source": [
    "# Dropping Columns"
   ]
  },
  {
   "cell_type": "code",
   "execution_count": 38,
   "metadata": {},
   "outputs": [],
   "source": [
    "final_train = encoded_ticker_train.drop(columns = ['Unnamed: 0', 'Id'])\n",
    "final_val = encoded_ticker_val.drop(columns = ['Unnamed: 0', 'Id'])\n",
    "final_test = encoded_ticker_test.drop(columns = ['Unnamed: 0', 'Id'])"
   ]
  },
  {
   "cell_type": "code",
   "execution_count": 46,
   "metadata": {},
   "outputs": [
    {
     "data": {
      "text/html": [
       "<div>\n",
       "<style scoped>\n",
       "    .dataframe tbody tr th:only-of-type {\n",
       "        vertical-align: middle;\n",
       "    }\n",
       "\n",
       "    .dataframe tbody tr th {\n",
       "        vertical-align: top;\n",
       "    }\n",
       "\n",
       "    .dataframe thead th {\n",
       "        text-align: right;\n",
       "    }\n",
       "</style>\n",
       "<table border=\"1\" class=\"dataframe\">\n",
       "  <thead>\n",
       "    <tr style=\"text-align: right;\">\n",
       "      <th></th>\n",
       "      <th>SF1</th>\n",
       "      <th>SF2</th>\n",
       "      <th>SF3</th>\n",
       "      <th>SF4</th>\n",
       "      <th>SF5</th>\n",
       "      <th>SF6</th>\n",
       "      <th>SF7</th>\n",
       "      <th>Day</th>\n",
       "      <th>Month</th>\n",
       "      <th>ticker_A</th>\n",
       "      <th>...</th>\n",
       "      <th>ticker_x</th>\n",
       "      <th>ticker_xec</th>\n",
       "      <th>ticker_xlnx</th>\n",
       "      <th>ticker_xom</th>\n",
       "      <th>ticker_xray</th>\n",
       "      <th>ticker_xrt</th>\n",
       "      <th>ticker_yum</th>\n",
       "      <th>ticker_zbh</th>\n",
       "      <th>ticker_zion</th>\n",
       "      <th>ticker_zts</th>\n",
       "    </tr>\n",
       "  </thead>\n",
       "  <tbody>\n",
       "    <tr>\n",
       "      <th>21492</th>\n",
       "      <td>0.021358</td>\n",
       "      <td>0.945042</td>\n",
       "      <td>-0.267387</td>\n",
       "      <td>0.000562</td>\n",
       "      <td>0.506703</td>\n",
       "      <td>0.242560</td>\n",
       "      <td>0.091036</td>\n",
       "      <td>26</td>\n",
       "      <td>7</td>\n",
       "      <td>0</td>\n",
       "      <td>...</td>\n",
       "      <td>0</td>\n",
       "      <td>0</td>\n",
       "      <td>0</td>\n",
       "      <td>0</td>\n",
       "      <td>0</td>\n",
       "      <td>0</td>\n",
       "      <td>0</td>\n",
       "      <td>0</td>\n",
       "      <td>0</td>\n",
       "      <td>0</td>\n",
       "    </tr>\n",
       "    <tr>\n",
       "      <th>26410</th>\n",
       "      <td>-1.361044</td>\n",
       "      <td>-0.834161</td>\n",
       "      <td>-0.093503</td>\n",
       "      <td>2.147007</td>\n",
       "      <td>1.169477</td>\n",
       "      <td>0.598797</td>\n",
       "      <td>-2.444095</td>\n",
       "      <td>20</td>\n",
       "      <td>8</td>\n",
       "      <td>0</td>\n",
       "      <td>...</td>\n",
       "      <td>0</td>\n",
       "      <td>0</td>\n",
       "      <td>0</td>\n",
       "      <td>0</td>\n",
       "      <td>0</td>\n",
       "      <td>0</td>\n",
       "      <td>0</td>\n",
       "      <td>0</td>\n",
       "      <td>0</td>\n",
       "      <td>0</td>\n",
       "    </tr>\n",
       "    <tr>\n",
       "      <th>9811</th>\n",
       "      <td>1.838173</td>\n",
       "      <td>-1.239422</td>\n",
       "      <td>-1.469837</td>\n",
       "      <td>0.804025</td>\n",
       "      <td>1.754245</td>\n",
       "      <td>0.936358</td>\n",
       "      <td>1.520345</td>\n",
       "      <td>18</td>\n",
       "      <td>7</td>\n",
       "      <td>0</td>\n",
       "      <td>...</td>\n",
       "      <td>0</td>\n",
       "      <td>0</td>\n",
       "      <td>0</td>\n",
       "      <td>0</td>\n",
       "      <td>0</td>\n",
       "      <td>0</td>\n",
       "      <td>0</td>\n",
       "      <td>0</td>\n",
       "      <td>0</td>\n",
       "      <td>0</td>\n",
       "    </tr>\n",
       "    <tr>\n",
       "      <th>9392</th>\n",
       "      <td>-2.806140</td>\n",
       "      <td>1.298610</td>\n",
       "      <td>0.490551</td>\n",
       "      <td>1.257951</td>\n",
       "      <td>0.886006</td>\n",
       "      <td>1.087680</td>\n",
       "      <td>-3.330132</td>\n",
       "      <td>21</td>\n",
       "      <td>8</td>\n",
       "      <td>0</td>\n",
       "      <td>...</td>\n",
       "      <td>0</td>\n",
       "      <td>0</td>\n",
       "      <td>0</td>\n",
       "      <td>0</td>\n",
       "      <td>0</td>\n",
       "      <td>0</td>\n",
       "      <td>0</td>\n",
       "      <td>0</td>\n",
       "      <td>0</td>\n",
       "      <td>0</td>\n",
       "    </tr>\n",
       "    <tr>\n",
       "      <th>24814</th>\n",
       "      <td>-0.334923</td>\n",
       "      <td>-0.554075</td>\n",
       "      <td>0.175425</td>\n",
       "      <td>1.061913</td>\n",
       "      <td>-0.065168</td>\n",
       "      <td>1.884874</td>\n",
       "      <td>-0.974540</td>\n",
       "      <td>24</td>\n",
       "      <td>7</td>\n",
       "      <td>0</td>\n",
       "      <td>...</td>\n",
       "      <td>0</td>\n",
       "      <td>0</td>\n",
       "      <td>0</td>\n",
       "      <td>0</td>\n",
       "      <td>0</td>\n",
       "      <td>0</td>\n",
       "      <td>0</td>\n",
       "      <td>0</td>\n",
       "      <td>0</td>\n",
       "      <td>0</td>\n",
       "    </tr>\n",
       "  </tbody>\n",
       "</table>\n",
       "<p>5 rows × 1308 columns</p>\n",
       "</div>"
      ],
      "text/plain": [
       "            SF1       SF2       SF3       SF4       SF5       SF6       SF7  \\\n",
       "21492  0.021358  0.945042 -0.267387  0.000562  0.506703  0.242560  0.091036   \n",
       "26410 -1.361044 -0.834161 -0.093503  2.147007  1.169477  0.598797 -2.444095   \n",
       "9811   1.838173 -1.239422 -1.469837  0.804025  1.754245  0.936358  1.520345   \n",
       "9392  -2.806140  1.298610  0.490551  1.257951  0.886006  1.087680 -3.330132   \n",
       "24814 -0.334923 -0.554075  0.175425  1.061913 -0.065168  1.884874 -0.974540   \n",
       "\n",
       "       Day  Month  ticker_A  ...  ticker_x  ticker_xec  ticker_xlnx  \\\n",
       "21492   26      7         0  ...         0           0            0   \n",
       "26410   20      8         0  ...         0           0            0   \n",
       "9811    18      7         0  ...         0           0            0   \n",
       "9392    21      8         0  ...         0           0            0   \n",
       "24814   24      7         0  ...         0           0            0   \n",
       "\n",
       "       ticker_xom  ticker_xray  ticker_xrt  ticker_yum  ticker_zbh  \\\n",
       "21492           0            0           0           0           0   \n",
       "26410           0            0           0           0           0   \n",
       "9811            0            0           0           0           0   \n",
       "9392            0            0           0           0           0   \n",
       "24814           0            0           0           0           0   \n",
       "\n",
       "       ticker_zion  ticker_zts  \n",
       "21492            0           0  \n",
       "26410            0           0  \n",
       "9811             0           0  \n",
       "9392             0           0  \n",
       "24814            0           0  \n",
       "\n",
       "[5 rows x 1308 columns]"
      ]
     },
     "execution_count": 46,
     "metadata": {},
     "output_type": "execute_result"
    }
   ],
   "source": [
    "final_train.head()"
   ]
  },
  {
   "cell_type": "markdown",
   "metadata": {},
   "source": [
    "# Model Building"
   ]
  },
  {
   "cell_type": "markdown",
   "metadata": {},
   "source": [
    "## Load error metrics"
   ]
  },
  {
   "cell_type": "code",
   "execution_count": 39,
   "metadata": {},
   "outputs": [],
   "source": [
    "from sklearn.metrics import classification_report,confusion_matrix,accuracy_score,recall_score,f1_score,precision_score\n",
    "from sklearn.metrics import roc_curve,log_loss,auc"
   ]
  },
  {
   "cell_type": "markdown",
   "metadata": {},
   "source": [
    "## Decision Tree"
   ]
  },
  {
   "cell_type": "markdown",
   "metadata": {},
   "source": [
    "### Train"
   ]
  },
  {
   "cell_type": "code",
   "execution_count": 49,
   "metadata": {},
   "outputs": [],
   "source": [
    "from sklearn import tree\n",
    "DT_classifier = tree.DecisionTreeClassifier(random_state=26, criterion = 'entropy')\n"
   ]
  },
  {
   "cell_type": "code",
   "execution_count": 50,
   "metadata": {},
   "outputs": [
    {
     "data": {
      "text/plain": [
       "DecisionTreeClassifier(class_weight=None, criterion='entropy', max_depth=None,\n",
       "            max_features=None, max_leaf_nodes=None,\n",
       "            min_impurity_decrease=0.0, min_impurity_split=None,\n",
       "            min_samples_leaf=1, min_samples_split=2,\n",
       "            min_weight_fraction_leaf=0.0, presort=False, random_state=26,\n",
       "            splitter='best')"
      ]
     },
     "execution_count": 50,
     "metadata": {},
     "output_type": "execute_result"
    }
   ],
   "source": [
    "DT_classifier.fit(final_train, y_train)"
   ]
  },
  {
   "cell_type": "code",
   "execution_count": 52,
   "metadata": {},
   "outputs": [
    {
     "data": {
      "text/plain": [
       "<matplotlib.axes._subplots.AxesSubplot at 0x1e3afb4ff98>"
      ]
     },
     "execution_count": 52,
     "metadata": {},
     "output_type": "execute_result"
    },
    {
     "data": {
      "image/png": "[encoded data removed]",
      "text/plain": [
       "<Figure size 1440x720 with 1 Axes>"
      ]
     },
     "metadata": {
      "needs_background": "light"
     },
     "output_type": "display_data"
    }
   ],
   "source": [
    "imp_feature = pd.Series(DT_classifier.feature_importances_, index = final_train.columns)\n",
    "imp_ordered = imp_feature.nlargest(100)\n",
    "plt.rcParams['figure.figsize'] = (20,10)\n",
    "imp_ordered.plot(kind = 'bar')"
   ]
  },
  {
   "cell_type": "code",
   "execution_count": 53,
   "metadata": {},
   "outputs": [
    {
     "name": "stdout",
     "output_type": "stream",
     "text": [
      "\n",
      "\n",
      "6 Most important feautures: \n",
      "\n",
      " SF4    0.223732\n",
      "SF3    0.205975\n",
      "dtype: float64\n",
      "=========================================\n",
      "\n",
      "\n",
      "6 Least important features: \n",
      "\n",
      " ticker_QRVO    0.000320\n",
      "ticker_BMY     0.000317\n",
      "dtype: float64\n"
     ]
    }
   ],
   "source": [
    "print('\\n\\n6 Most important feautures: \\n\\n', imp_ordered.head(2))\n",
    "print('=========================================')\n",
    "print('\\n\\n6 Least important features: \\n\\n',imp_ordered.tail(2))"
   ]
  },
  {
   "cell_type": "code",
   "execution_count": 56,
   "metadata": {},
   "outputs": [],
   "source": [
    "y_DT_pred = DT_classifier.predict(final_val)\n",
    "y_DT_train = DT_classifier.predict(final_train)"
   ]
  },
  {
   "cell_type": "code",
   "execution_count": 58,
   "metadata": {},
   "outputs": [
    {
     "name": "stdout",
     "output_type": "stream",
     "text": [
      "=========================== \n",
      "\n",
      " TRAIN DATA METRICS\n",
      "\n",
      "\n",
      "=========================== \n",
      "\n",
      " Confusion Matrix\n",
      "\n",
      " [[4373    0    0    0]\n",
      " [   0 8729    0    0]\n",
      " [   0    0 4429    0]\n",
      " [   0    0    0 4073]]\n",
      "\n",
      "\n",
      "========================== \n",
      "\n",
      " Accuracy Score\n",
      "\n",
      " 1.0\n",
      "\n",
      "\n",
      "========================== \n",
      "\n",
      " Classification Report\n",
      "\n",
      "               precision    recall  f1-score   support\n",
      "\n",
      "           1       1.00      1.00      1.00      4373\n",
      "           2       1.00      1.00      1.00      8729\n",
      "           3       1.00      1.00      1.00      4429\n",
      "           4       1.00      1.00      1.00      4073\n",
      "\n",
      "   micro avg       1.00      1.00      1.00     21604\n",
      "   macro avg       1.00      1.00      1.00     21604\n",
      "weighted avg       1.00      1.00      1.00     21604\n",
      "\n",
      "=========================== \n",
      "\n",
      " VALIDATION DATA METRICS\n",
      "\n",
      "\n",
      "=========================== \n",
      "\n",
      " Confusion Matrix\n",
      "\n",
      " [[ 547  148  254  145]\n",
      " [ 120 1803  142  118]\n",
      " [ 279  150  506  172]\n",
      " [ 163  150  173  532]]\n",
      "\n",
      "\n",
      "========================== \n",
      "\n",
      " Accuracy Score\n",
      "\n",
      " 0.6271751203258052\n",
      "\n",
      "\n",
      "========================== \n",
      "\n",
      " Classification Report\n",
      "\n",
      "               precision    recall  f1-score   support\n",
      "\n",
      "           1       0.49      0.50      0.50      1094\n",
      "           2       0.80      0.83      0.81      2183\n",
      "           3       0.47      0.46      0.46      1107\n",
      "           4       0.55      0.52      0.54      1018\n",
      "\n",
      "   micro avg       0.63      0.63      0.63      5402\n",
      "   macro avg       0.58      0.58      0.58      5402\n",
      "weighted avg       0.62      0.63      0.63      5402\n",
      "\n"
     ]
    }
   ],
   "source": [
    "print(\"=========================== \\n\\n TRAIN DATA METRICS\\n\\n\") \n",
    "print(\"=========================== \\n\\n Confusion Matrix\\n\\n\", confusion_matrix(y_train, y_DT_train))\n",
    "print(\"\\n\\n========================== \\n\\n Accuracy Score\\n\\n\",accuracy_score(y_train, y_DT_train))\n",
    "print(\"\\n\\n========================== \\n\\n Classification Report\\n\\n\",classification_report(y_train, y_DT_train))\n",
    "\n",
    "print(\"=========================== \\n\\n VALIDATION DATA METRICS\\n\\n\") \n",
    "print(\"=========================== \\n\\n Confusion Matrix\\n\\n\", confusion_matrix(y_val, y_DT_pred))\n",
    "print(\"\\n\\n========================== \\n\\n Accuracy Score\\n\\n\", accuracy_score(y_val, y_DT_pred))\n",
    "print(\"\\n\\n========================== \\n\\n Classification Report\\n\\n\", classification_report(y_val, y_DT_pred))"
   ]
  },
  {
   "cell_type": "markdown",
   "metadata": {},
   "source": [
    "### Test"
   ]
  },
  {
   "cell_type": "code",
   "execution_count": 60,
   "metadata": {},
   "outputs": [],
   "source": [
    "y_DT_test = DT_classifier.predict(final_test)"
   ]
  },
  {
   "cell_type": "code",
   "execution_count": 61,
   "metadata": {},
   "outputs": [],
   "source": [
    "DT_pred_file = {'id': encoded_ticker_test['Id'], 'alpha': y_DT_test}\n",
    "\n",
    "DT_pred_file = pd.DataFrame(DT_pred_file)\n",
    "\n",
    "DT_pred_file.to_csv('Decision_Tree_Dictionary_Prediction.csv', index = False)"
   ]
  },
  {
   "cell_type": "markdown",
   "metadata": {},
   "source": [
    "## Random Forest"
   ]
  },
  {
   "cell_type": "markdown",
   "metadata": {},
   "source": [
    "### Train and Validation"
   ]
  },
  {
   "cell_type": "code",
   "execution_count": 62,
   "metadata": {},
   "outputs": [],
   "source": [
    "from sklearn.ensemble import RandomForestClassifier\n",
    "from sklearn.model_selection import RandomizedSearchCV"
   ]
  },
  {
   "cell_type": "code",
   "execution_count": 63,
   "metadata": {},
   "outputs": [],
   "source": [
    "RF_classifier = RandomForestClassifier(n_estimators=10, criterion='entropy', random_state=2)\n",
    "\n",
    "param_grid = {'n_estimators' : [5,7,9,11,13,15,17,19],\n",
    "             'max_depth' : [2,3,4,5,6,7,8,9,10,11,12],\n",
    "              \"min_samples_leaf\" : [5, 10, 15, 20],\n",
    "              \"class_weight\" : ['balanced','balanced_subsample']}"
   ]
  },
  {
   "cell_type": "code",
   "execution_count": 64,
   "metadata": {},
   "outputs": [],
   "source": [
    "rfc_cv = RandomizedSearchCV(estimator=RF_classifier, param_distributions=param_grid, n_iter=10,cv=4)"
   ]
  },
  {
   "cell_type": "code",
   "execution_count": 65,
   "metadata": {},
   "outputs": [
    {
     "data": {
      "text/plain": [
       "RandomizedSearchCV(cv=4, error_score='raise-deprecating',\n",
       "          estimator=RandomForestClassifier(bootstrap=True, class_weight=None, criterion='entropy',\n",
       "            max_depth=None, max_features='auto', max_leaf_nodes=None,\n",
       "            min_impurity_decrease=0.0, min_impurity_split=None,\n",
       "            min_samples_leaf=1, min_samples_split=2,\n",
       "            min_weight_fraction_leaf=0.0, n_estimators=10, n_jobs=None,\n",
       "            oob_score=False, random_state=2, verbose=0, warm_start=False),\n",
       "          fit_params=None, iid='warn', n_iter=10, n_jobs=None,\n",
       "          param_distributions={'n_estimators': [5, 7, 9, 11, 13, 15, 17, 19], 'max_depth': [2, 3, 4, 5, 6, 7, 8, 9, 10, 11, 12], 'min_samples_leaf': [5, 10, 15, 20], 'class_weight': ['balanced', 'balanced_subsample']},\n",
       "          pre_dispatch='2*n_jobs', random_state=None, refit=True,\n",
       "          return_train_score='warn', scoring=None, verbose=0)"
      ]
     },
     "execution_count": 65,
     "metadata": {},
     "output_type": "execute_result"
    }
   ],
   "source": [
    "rfc_cv.fit(final_train, y_train)"
   ]
  },
  {
   "cell_type": "code",
   "execution_count": 66,
   "metadata": {},
   "outputs": [
    {
     "data": {
      "text/plain": [
       "{'n_estimators': 19,\n",
       " 'min_samples_leaf': 5,\n",
       " 'max_depth': 8,\n",
       " 'class_weight': 'balanced'}"
      ]
     },
     "execution_count": 66,
     "metadata": {},
     "output_type": "execute_result"
    }
   ],
   "source": [
    "rfc_cv.best_params_"
   ]
  },
  {
   "cell_type": "code",
   "execution_count": 67,
   "metadata": {},
   "outputs": [
    {
     "data": {
      "text/plain": [
       "<matplotlib.axes._subplots.AxesSubplot at 0x1e3aff7b240>"
      ]
     },
     "execution_count": 67,
     "metadata": {},
     "output_type": "execute_result"
    },
    {
     "data": {
      "image/png": "[encoded data removed]",
      "text/plain": [
       "<Figure size 1440x720 with 1 Axes>"
      ]
     },
     "metadata": {
      "needs_background": "light"
     },
     "output_type": "display_data"
    }
   ],
   "source": [
    "feat_importances = pd.Series(rfc_cv.best_estimator_.feature_importances_, index = final_train.columns)\n",
    "feat_importances_ordered = feat_importances.nlargest(100)\n",
    "feat_importances_ordered.plot(kind='bar')"
   ]
  },
  {
   "cell_type": "code",
   "execution_count": 68,
   "metadata": {},
   "outputs": [],
   "source": [
    "rf_clf = RandomForestClassifier(n_estimators = 19, min_samples_leaf = 5, max_depth = 8, class_weight = 'balanced', criterion = 'entropy')"
   ]
  },
  {
   "cell_type": "code",
   "execution_count": 69,
   "metadata": {},
   "outputs": [
    {
     "data": {
      "text/plain": [
       "RandomForestClassifier(bootstrap=True, class_weight='balanced',\n",
       "            criterion='entropy', max_depth=8, max_features='auto',\n",
       "            max_leaf_nodes=None, min_impurity_decrease=0.0,\n",
       "            min_impurity_split=None, min_samples_leaf=5,\n",
       "            min_samples_split=2, min_weight_fraction_leaf=0.0,\n",
       "            n_estimators=19, n_jobs=None, oob_score=False,\n",
       "            random_state=None, verbose=0, warm_start=False)"
      ]
     },
     "execution_count": 69,
     "metadata": {},
     "output_type": "execute_result"
    }
   ],
   "source": [
    "rf_clf.fit(final_train,y_train)"
   ]
  },
  {
   "cell_type": "code",
   "execution_count": 70,
   "metadata": {},
   "outputs": [],
   "source": [
    "y_RF_pred = rf_clf.predict(final_val)\n",
    "y_RF_train = rf_clf.predict(final_train)"
   ]
  },
  {
   "cell_type": "code",
   "execution_count": 71,
   "metadata": {},
   "outputs": [
    {
     "name": "stdout",
     "output_type": "stream",
     "text": [
      "=========================== \n",
      "\n",
      " TRAIN DATA METRICS\n",
      "\n",
      "\n",
      "=========================== \n",
      "\n",
      " Confusion Matrix\n",
      "\n",
      " [[1681 1938  622  132]\n",
      " [ 685 7212  651  181]\n",
      " [ 704 1551 1998  176]\n",
      " [ 521 2342  899  311]]\n",
      "\n",
      "\n",
      "========================== \n",
      "\n",
      " Accuracy Score\n",
      "\n",
      " 0.5185150897981855\n",
      "\n",
      "\n",
      "========================== \n",
      "\n",
      " Classification Report\n",
      "\n",
      "               precision    recall  f1-score   support\n",
      "\n",
      "           1       0.47      0.38      0.42      4373\n",
      "           2       0.55      0.83      0.66      8729\n",
      "           3       0.48      0.45      0.46      4429\n",
      "           4       0.39      0.08      0.13      4073\n",
      "\n",
      "   micro avg       0.52      0.52      0.52     21604\n",
      "   macro avg       0.47      0.43      0.42     21604\n",
      "weighted avg       0.49      0.52      0.47     21604\n",
      "\n",
      "=========================== \n",
      "\n",
      " VALIDATION DATA METRICS\n",
      "\n",
      "\n",
      "=========================== \n",
      "\n",
      " Confusion Matrix\n",
      "\n",
      " [[ 380  505  169   40]\n",
      " [ 166 1804  162   51]\n",
      " [ 200  396  467   44]\n",
      " [ 135  596  228   59]]\n",
      "\n",
      "\n",
      "========================== \n",
      "\n",
      " Accuracy Score\n",
      "\n",
      " 0.501666049611255\n",
      "\n",
      "\n",
      "========================== \n",
      "\n",
      " Classification Report\n",
      "\n",
      "               precision    recall  f1-score   support\n",
      "\n",
      "           1       0.43      0.35      0.38      1094\n",
      "           2       0.55      0.83      0.66      2183\n",
      "           3       0.46      0.42      0.44      1107\n",
      "           4       0.30      0.06      0.10      1018\n",
      "\n",
      "   micro avg       0.50      0.50      0.50      5402\n",
      "   macro avg       0.43      0.41      0.39      5402\n",
      "weighted avg       0.46      0.50      0.45      5402\n",
      "\n"
     ]
    }
   ],
   "source": [
    "print(\"=========================== \\n\\n TRAIN DATA METRICS\\n\\n\") \n",
    "print(\"=========================== \\n\\n Confusion Matrix\\n\\n\", confusion_matrix(y_train, y_RF_train))\n",
    "print(\"\\n\\n========================== \\n\\n Accuracy Score\\n\\n\",accuracy_score(y_train, y_RF_train))\n",
    "print(\"\\n\\n========================== \\n\\n Classification Report\\n\\n\",classification_report(y_train, y_RF_train))\n",
    "\n",
    "print(\"=========================== \\n\\n VALIDATION DATA METRICS\\n\\n\") \n",
    "print(\"=========================== \\n\\n Confusion Matrix\\n\\n\", confusion_matrix(y_val, y_RF_pred))\n",
    "print(\"\\n\\n========================== \\n\\n Accuracy Score\\n\\n\", accuracy_score(y_val, y_RF_pred))\n",
    "print(\"\\n\\n========================== \\n\\n Classification Report\\n\\n\", classification_report(y_val, y_RF_pred))"
   ]
  },
  {
   "cell_type": "markdown",
   "metadata": {},
   "source": [
    "### Test"
   ]
  },
  {
   "cell_type": "code",
   "execution_count": 72,
   "metadata": {},
   "outputs": [],
   "source": [
    "y_RF_test = rf_clf.predict(final_test)"
   ]
  },
  {
   "cell_type": "code",
   "execution_count": 73,
   "metadata": {},
   "outputs": [],
   "source": [
    "RF_pred_file = {'id': encoded_ticker_test['Id'], 'alpha': y_RF_test}\n",
    "\n",
    "RF_pred_file = pd.DataFrame(RF_pred_file)\n",
    "\n",
    "RF_pred_file.to_csv('Random_Forest_Dictionary_Prediction.csv', index = False)"
   ]
  }
 ],
 "metadata": {
  "kernelspec": {
   "display_name": "Python 3",
   "language": "python",
   "name": "python3"
  },
  "language_info": {
   "codemirror_mode": {
    "name": "ipython",
    "version": 3
   },
   "file_extension": ".py",
   "mimetype": "text/x-python",
   "name": "python",
   "nbconvert_exporter": "python",
   "pygments_lexer": "ipython3",
   "version": "3.7.3"
  },
  "toc": {
   "base_numbering": 1,
   "nav_menu": {},
   "number_sections": true,
   "sideBar": true,
   "skip_h1_title": false,
   "title_cell": "Table of Contents",
   "title_sidebar": "Contents",
   "toc_cell": false,
   "toc_position": {},
   "toc_section_display": true,
   "toc_window_display": false
  },
  "varInspector": {
   "cols": {
    "lenName": 16,
    "lenType": 16,
    "lenVar": 40
   },
   "kernels_config": {
    "python": {
     "delete_cmd_postfix": "",
     "delete_cmd_prefix": "del ",
     "library": "var_list.py",
     "varRefreshCmd": "print(var_dic_list())"
    },
    "r": {
     "delete_cmd_postfix": ") ",
     "delete_cmd_prefix": "rm(",
     "library": "var_list.r",
     "varRefreshCmd": "cat(var_dic_list()) "
    }
   },
   "types_to_exclude": [
    "module",
    "function",
    "builtin_function_or_method",
    "instance",
    "_Feature"
   ],
   "window_display": false
  }
 },
 "nbformat": 4,
 "nbformat_minor": 2
}
